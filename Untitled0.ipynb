{
  "nbformat": 4,
  "nbformat_minor": 0,
  "metadata": {
    "colab": {
      "provenance": [],
      "authorship_tag": "ABX9TyOmbF1djlVDXDqCjRcyr6B+",
      "include_colab_link": true
    },
    "kernelspec": {
      "name": "python3",
      "display_name": "Python 3"
    },
    "language_info": {
      "name": "python"
    }
  },
  "cells": [
    {
      "cell_type": "markdown",
      "metadata": {
        "id": "view-in-github",
        "colab_type": "text"
      },
      "source": [
        "<a href=\"https://colab.research.google.com/github/antkeser/KursAI/blob/main/Untitled0.ipynb\" target=\"_parent\"><img src=\"https://colab.research.google.com/assets/colab-badge.svg\" alt=\"Open In Colab\"/></a>"
      ]
    },
    {
      "cell_type": "markdown",
      "source": [
        "# **Podstawowe elementy języka python**\n",
        "*w tym rozdziale przedstawiamy podstawowe elementy składni języka python*\n",
        "https://www.python.org/\n",
        "\n",
        "## Omawiane elementy:\n",
        "\n",
        "1.   Zmienne\n",
        "2.   Element listy\n",
        "3.   Pętle\n",
        "4.   Słowniki i krotki\n",
        "5.   Instrukcje warunkowe\n",
        "6.   Funkcje\n",
        "7.   Obsługa plików\n",
        "8.   Obsługa wyjątków\n",
        "\n",
        "\n",
        "\n"
      ],
      "metadata": {
        "id": "MLd8k8yeBuKX"
      }
    },
    {
      "cell_type": "markdown",
      "source": [
        "## Konfiguracja repozytorium"
      ],
      "metadata": {
        "id": "aRbp4KutGgpt"
      }
    },
    {
      "cell_type": "code",
      "source": [
        "!git init"
      ],
      "metadata": {
        "colab": {
          "base_uri": "https://localhost:8080/"
        },
        "id": "9EJslYa0ELy5",
        "outputId": "f6031b04-ba7b-4252-e54e-a5abe77bf7ce"
      },
      "execution_count": 2,
      "outputs": [
        {
          "output_type": "stream",
          "name": "stdout",
          "text": [
            "Reinitialized existing Git repository in /content/.git/\n"
          ]
        }
      ]
    },
    {
      "cell_type": "code",
      "source": [
        "!git config --global user.name \"Antek\"\n",
        "!git config --global user.email \"antonello.kapusta@gmail.com\""
      ],
      "metadata": {
        "id": "RDi6C92PG7r1"
      },
      "execution_count": 5,
      "outputs": []
    },
    {
      "cell_type": "code",
      "source": [
        "!git status"
      ],
      "metadata": {
        "colab": {
          "base_uri": "https://localhost:8080/"
        },
        "id": "A5CS7G4DHcLV",
        "outputId": "7d9e74a7-0e50-4378-8878-87eb310aedfb"
      },
      "execution_count": 6,
      "outputs": [
        {
          "output_type": "stream",
          "name": "stdout",
          "text": [
            "On branch master\n",
            "\n",
            "No commits yet\n",
            "\n",
            "Untracked files:\n",
            "  (use \"git add <file>...\" to include in what will be committed)\n",
            "\t\u001b[31m.config/\u001b[m\n",
            "\t\u001b[31msample_data/\u001b[m\n",
            "\n",
            "nothing added to commit but untracked files present (use \"git add\" to track)\n"
          ]
        }
      ]
    },
    {
      "cell_type": "code",
      "source": [
        "!git add ."
      ],
      "metadata": {
        "id": "cBSyLMWLHg5M"
      },
      "execution_count": 7,
      "outputs": []
    },
    {
      "cell_type": "code",
      "source": [
        "!git status"
      ],
      "metadata": {
        "colab": {
          "base_uri": "https://localhost:8080/"
        },
        "id": "GcfBbzqGHm-i",
        "outputId": "dbc75508-45fb-4fc8-cb68-b79599d51e4f"
      },
      "execution_count": 8,
      "outputs": [
        {
          "output_type": "stream",
          "name": "stdout",
          "text": [
            "On branch master\n",
            "\n",
            "No commits yet\n",
            "\n",
            "Changes to be committed:\n",
            "  (use \"git rm --cached <file>...\" to unstage)\n",
            "\t\u001b[32mnew file:   .config/.last_opt_in_prompt.yaml\u001b[m\n",
            "\t\u001b[32mnew file:   .config/.last_survey_prompt.yaml\u001b[m\n",
            "\t\u001b[32mnew file:   .config/.last_update_check.json\u001b[m\n",
            "\t\u001b[32mnew file:   .config/active_config\u001b[m\n",
            "\t\u001b[32mnew file:   .config/config_sentinel\u001b[m\n",
            "\t\u001b[32mnew file:   .config/configurations/config_default\u001b[m\n",
            "\t\u001b[32mnew file:   .config/default_configs.db\u001b[m\n",
            "\t\u001b[32mnew file:   .config/gce\u001b[m\n",
            "\t\u001b[32mnew file:   .config/hidden_gcloud_config_universe_descriptor_data_cache_configs.db\u001b[m\n",
            "\t\u001b[32mnew file:   .config/logs/2025.02.27/14.21.12.928198.log\u001b[m\n",
            "\t\u001b[32mnew file:   .config/logs/2025.02.27/14.21.34.075995.log\u001b[m\n",
            "\t\u001b[32mnew file:   .config/logs/2025.02.27/14.21.43.047280.log\u001b[m\n",
            "\t\u001b[32mnew file:   .config/logs/2025.02.27/14.21.44.229982.log\u001b[m\n",
            "\t\u001b[32mnew file:   .config/logs/2025.02.27/14.21.53.145814.log\u001b[m\n",
            "\t\u001b[32mnew file:   .config/logs/2025.02.27/14.21.53.908629.log\u001b[m\n",
            "\t\u001b[32mnew file:   sample_data/README.md\u001b[m\n",
            "\t\u001b[32mnew file:   sample_data/anscombe.json\u001b[m\n",
            "\t\u001b[32mnew file:   sample_data/california_housing_test.csv\u001b[m\n",
            "\t\u001b[32mnew file:   sample_data/california_housing_train.csv\u001b[m\n",
            "\t\u001b[32mnew file:   sample_data/mnist_test.csv\u001b[m\n",
            "\t\u001b[32mnew file:   sample_data/mnist_train_small.csv\u001b[m\n",
            "\n"
          ]
        }
      ]
    },
    {
      "cell_type": "code",
      "source": [
        "!git commit -m \"inicjalizacja projektu\""
      ],
      "metadata": {
        "colab": {
          "base_uri": "https://localhost:8080/"
        },
        "id": "010T8r3SHsak",
        "outputId": "ec6a101a-bb29-4c6d-f9b8-9791a79d1e47"
      },
      "execution_count": 9,
      "outputs": [
        {
          "output_type": "stream",
          "name": "stdout",
          "text": [
            "[master (root-commit) a2ce747] inicjalizacja projektu\n",
            " 21 files changed, 51025 insertions(+)\n",
            " create mode 100644 .config/.last_opt_in_prompt.yaml\n",
            " create mode 100644 .config/.last_survey_prompt.yaml\n",
            " create mode 100644 .config/.last_update_check.json\n",
            " create mode 100644 .config/active_config\n",
            " create mode 100644 .config/config_sentinel\n",
            " create mode 100644 .config/configurations/config_default\n",
            " create mode 100644 .config/default_configs.db\n",
            " create mode 100644 .config/gce\n",
            " create mode 100644 .config/hidden_gcloud_config_universe_descriptor_data_cache_configs.db\n",
            " create mode 100644 .config/logs/2025.02.27/14.21.12.928198.log\n",
            " create mode 100644 .config/logs/2025.02.27/14.21.34.075995.log\n",
            " create mode 100644 .config/logs/2025.02.27/14.21.43.047280.log\n",
            " create mode 100644 .config/logs/2025.02.27/14.21.44.229982.log\n",
            " create mode 100644 .config/logs/2025.02.27/14.21.53.145814.log\n",
            " create mode 100644 .config/logs/2025.02.27/14.21.53.908629.log\n",
            " create mode 100755 sample_data/README.md\n",
            " create mode 100755 sample_data/anscombe.json\n",
            " create mode 100644 sample_data/california_housing_test.csv\n",
            " create mode 100644 sample_data/california_housing_train.csv\n",
            " create mode 100644 sample_data/mnist_test.csv\n",
            " create mode 100644 sample_data/mnist_train_small.csv\n"
          ]
        }
      ]
    },
    {
      "cell_type": "code",
      "source": [
        "!git log"
      ],
      "metadata": {
        "colab": {
          "base_uri": "https://localhost:8080/"
        },
        "id": "TrebgKR-H6c1",
        "outputId": "9507afd0-1a8b-4ae8-d100-de585fae9103"
      },
      "execution_count": 11,
      "outputs": [
        {
          "output_type": "stream",
          "name": "stdout",
          "text": [
            "\u001b[33mcommit a2ce7473c79ce7749ed36e18a4562b1881eeacb6\u001b[m\u001b[33m (\u001b[m\u001b[1;36mHEAD -> \u001b[m\u001b[1;32mmaster\u001b[m\u001b[33m)\u001b[m\n",
            "Author: Antek <antonello.kapusta@gmail.com>\n",
            "Date:   Fri Feb 28 19:54:06 2025 +0000\n",
            "\n",
            "    inicjalizacja projektu\n"
          ]
        }
      ]
    },
    {
      "cell_type": "code",
      "source": [
        "!git branch -M main"
      ],
      "metadata": {
        "id": "RuNn4b5JIhX2"
      },
      "execution_count": 12,
      "outputs": []
    },
    {
      "cell_type": "code",
      "source": [
        "!git log"
      ],
      "metadata": {
        "colab": {
          "base_uri": "https://localhost:8080/"
        },
        "id": "GWrkygIbImgc",
        "outputId": "5a1b6dda-32f7-4c92-bc20-34e0ad55374c"
      },
      "execution_count": 13,
      "outputs": [
        {
          "output_type": "stream",
          "name": "stdout",
          "text": [
            "\u001b[33mcommit a2ce7473c79ce7749ed36e18a4562b1881eeacb6\u001b[m\u001b[33m (\u001b[m\u001b[1;36mHEAD -> \u001b[m\u001b[1;32mmain\u001b[m\u001b[33m)\u001b[m\n",
            "Author: Antek <antonello.kapusta@gmail.com>\n",
            "Date:   Fri Feb 28 19:54:06 2025 +0000\n",
            "\n",
            "    inicjalizacja projektu\n"
          ]
        }
      ]
    },
    {
      "cell_type": "code",
      "source": [
        "!git remote add origin https://<token>@github.com/antkeser/KursAI.git"
      ],
      "metadata": {
        "id": "1npS_FTYKpwB"
      },
      "execution_count": 15,
      "outputs": []
    },
    {
      "cell_type": "code",
      "source": [
        "!git remote"
      ],
      "metadata": {
        "colab": {
          "base_uri": "https://localhost:8080/"
        },
        "id": "aIdMCWHgLCzF",
        "outputId": "414029d5-426e-42b6-9b16-72980e9f5cfc"
      },
      "execution_count": 16,
      "outputs": [
        {
          "output_type": "stream",
          "name": "stdout",
          "text": [
            "origin\n"
          ]
        }
      ]
    },
    {
      "cell_type": "code",
      "source": [
        "!git push -u origin main"
      ],
      "metadata": {
        "colab": {
          "base_uri": "https://localhost:8080/"
        },
        "id": "AAEXa3H_LXvb",
        "outputId": "27166d4e-cfc7-43e4-b89e-5e7c5addcc6d"
      },
      "execution_count": 17,
      "outputs": [
        {
          "output_type": "stream",
          "name": "stdout",
          "text": [
            "Enumerating objects: 28, done.\n",
            "Counting objects:   3% (1/28)\rCounting objects:   7% (2/28)\rCounting objects:  10% (3/28)\rCounting objects:  14% (4/28)\rCounting objects:  17% (5/28)\rCounting objects:  21% (6/28)\rCounting objects:  25% (7/28)\rCounting objects:  28% (8/28)\rCounting objects:  32% (9/28)\rCounting objects:  35% (10/28)\rCounting objects:  39% (11/28)\rCounting objects:  42% (12/28)\rCounting objects:  46% (13/28)\rCounting objects:  50% (14/28)\rCounting objects:  53% (15/28)\rCounting objects:  57% (16/28)\rCounting objects:  60% (17/28)\rCounting objects:  64% (18/28)\rCounting objects:  67% (19/28)\rCounting objects:  71% (20/28)\rCounting objects:  75% (21/28)\rCounting objects:  78% (22/28)\rCounting objects:  82% (23/28)\rCounting objects:  85% (24/28)\rCounting objects:  89% (25/28)\rCounting objects:  92% (26/28)\rCounting objects:  96% (27/28)\rCounting objects: 100% (28/28)\rCounting objects: 100% (28/28), done.\n",
            "Delta compression using up to 2 threads\n",
            "Compressing objects: 100% (21/21), done.\n",
            "Writing objects: 100% (28/28), 8.42 MiB | 1.86 MiB/s, done.\n",
            "Total 28 (delta 5), reused 0 (delta 0), pack-reused 0\n",
            "remote: Resolving deltas: 100% (5/5), done.\u001b[K\n",
            "To https://github.com/antkeser/KursAI.git\n",
            " * [new branch]      main -> main\n",
            "Branch 'main' set up to track remote branch 'main' from 'origin'.\n"
          ]
        }
      ]
    },
    {
      "cell_type": "code",
      "source": [
        "!git status"
      ],
      "metadata": {
        "colab": {
          "base_uri": "https://localhost:8080/"
        },
        "id": "Jhf_FqaEMCvw",
        "outputId": "b580e5b1-ebc1-49f9-ec57-62e8e9707828"
      },
      "execution_count": 18,
      "outputs": [
        {
          "output_type": "stream",
          "name": "stdout",
          "text": [
            "On branch main\n",
            "Your branch is up to date with 'origin/main'.\n",
            "\n",
            "nothing to commit, working tree clean\n"
          ]
        }
      ]
    },
    {
      "cell_type": "code",
      "source": [
        "!git pull"
      ],
      "metadata": {
        "colab": {
          "base_uri": "https://localhost:8080/"
        },
        "id": "EEp3Ph5vMGbg",
        "outputId": "5be030ac-eff3-4ed6-e494-69471c9339f8"
      },
      "execution_count": 19,
      "outputs": [
        {
          "output_type": "stream",
          "name": "stdout",
          "text": [
            "remote: Enumerating objects: 4, done.\u001b[K\n",
            "remote: Counting objects:  25% (1/4)\u001b[K\rremote: Counting objects:  50% (2/4)\u001b[K\rremote: Counting objects:  75% (3/4)\u001b[K\rremote: Counting objects: 100% (4/4)\u001b[K\rremote: Counting objects: 100% (4/4), done.\u001b[K\n",
            "remote: Compressing objects:  50% (1/2)\u001b[K\rremote: Compressing objects: 100% (2/2)\u001b[K\rremote: Compressing objects: 100% (2/2), done.\u001b[K\n",
            "remote: Total 3 (delta 0), reused 0 (delta 0), pack-reused 0 (from 0)\u001b[K\n",
            "Unpacking objects:  33% (1/3)\rUnpacking objects:  66% (2/3)\rUnpacking objects: 100% (3/3)\rUnpacking objects: 100% (3/3), 967 bytes | 967.00 KiB/s, done.\n",
            "From https://github.com/antkeser/KursAI\n",
            "   a2ce747..397c507  main       -> origin/main\n",
            "Updating a2ce747..397c507\n",
            "Fast-forward\n",
            " README.md | 1 \u001b[32m+\u001b[m\n",
            " 1 file changed, 1 insertion(+)\n",
            " create mode 100644 README.md\n"
          ]
        }
      ]
    },
    {
      "cell_type": "code",
      "source": [
        "!git log"
      ],
      "metadata": {
        "colab": {
          "base_uri": "https://localhost:8080/"
        },
        "id": "lpgDh_6fMKAI",
        "outputId": "954f3f17-1e8e-4881-fa31-9f892f58aaf1"
      },
      "execution_count": 20,
      "outputs": [
        {
          "output_type": "stream",
          "name": "stdout",
          "text": [
            "\u001b[33mcommit 397c507acc64db3ed50475efe8743df3e0428856\u001b[m\u001b[33m (\u001b[m\u001b[1;36mHEAD -> \u001b[m\u001b[1;32mmain\u001b[m\u001b[33m, \u001b[m\u001b[1;31morigin/main\u001b[m\u001b[33m)\u001b[m\n",
            "Author: antkeser <158709814+antkeser@users.noreply.github.com>\n",
            "Date:   Fri Feb 28 21:11:57 2025 +0100\n",
            "\n",
            "    Create README.md\n",
            "\n",
            "\u001b[33mcommit a2ce7473c79ce7749ed36e18a4562b1881eeacb6\u001b[m\n",
            "Author: Antek <antonello.kapusta@gmail.com>\n",
            "Date:   Fri Feb 28 19:54:06 2025 +0000\n",
            "\n",
            "    inicjalizacja projektu\n"
          ]
        }
      ]
    },
    {
      "cell_type": "markdown",
      "source": [
        "## Zmienne"
      ],
      "metadata": {
        "id": "fy4a2zLVM4N3"
      }
    },
    {
      "cell_type": "code",
      "source": [
        "liczba = 0\n",
        "zmiennoprzecinkowa = 8.9\n",
        "napis = \"coś\"\n",
        "logiczna = False\n",
        "\n",
        "print(f\"liczba = {liczba}, zmiennoprzecinkowa = {zmiennoprzecinkowa}, napis = {napis}, logiczna = {logiczna}\")\n",
        "print(f\"zmienna liczba jest typu {type(liczba)}\")\n",
        "print(f\"zmienna zmiennoprzecinkowa jest typu {type(zmiennoprzecinkowa)}\")\n",
        "print(f\"zmienna napis jest typu {type(napis)}\")\n",
        "print(f\"zmienna logiczna jest typu {type(logiczna)}\")"
      ],
      "metadata": {
        "colab": {
          "base_uri": "https://localhost:8080/"
        },
        "id": "ugO7cLBJM8Es",
        "outputId": "fdc93cd8-98d7-4332-a3cc-63f543b5bbf9"
      },
      "execution_count": 24,
      "outputs": [
        {
          "output_type": "stream",
          "name": "stdout",
          "text": [
            "liczba = 0, zmiennoprzecinkowa = 8.9, napis = coś, logiczna = False\n",
            "zmienna liczba jest typu <class 'int'>\n",
            "zmienna zmiennoprzecinkowa jest typu <class 'float'>\n",
            "zmienna napis jest typu <class 'str'>\n",
            "zmienna logiczna jest typu <class 'bool'>\n"
          ]
        }
      ]
    },
    {
      "cell_type": "markdown",
      "source": [
        "## Listy"
      ],
      "metadata": {
        "id": "g48KpFnOM8xL"
      }
    },
    {
      "cell_type": "code",
      "source": [
        "gry = [\"fortnite\", \"gta\", \"fifa\"]\n",
        "lista_mieszana = [1, \"dwa\", 3.0, False]\n",
        "print(gry)\n",
        "print(lista_mieszana)\n",
        "\n",
        "print(f\"pierwszy element listy gry to {gry[0]}\")\n",
        "print(f\"drugi element listy gry to {gry[1]}\")\n",
        "print(f\"trzeci element listy gry to {gry[2]}\")\n",
        "gry.append(\"league of legends\")\n",
        "print(gry)\n",
        "gry.remove(\"fortnite\")\n",
        "print(gry)"
      ],
      "metadata": {
        "colab": {
          "base_uri": "https://localhost:8080/"
        },
        "id": "LFPEzF5qNB92",
        "outputId": "badc87e5-358a-4b93-a402-27e9cf285591"
      },
      "execution_count": 27,
      "outputs": [
        {
          "output_type": "stream",
          "name": "stdout",
          "text": [
            "['fortnite', 'gta', 'fifa']\n",
            "[1, 'dwa', 3.0, False]\n",
            "pierwszy element listy gry to fortnite\n",
            "drugi element listy gry to gta\n",
            "trzeci element listy gry to fifa\n",
            "['fortnite', 'gta', 'fifa', 'league of legends']\n",
            "['gta', 'fifa', 'league of legends']\n"
          ]
        }
      ]
    },
    {
      "cell_type": "markdown",
      "source": [
        "## Pętle"
      ],
      "metadata": {
        "id": "nAHW-wTcNCUj"
      }
    },
    {
      "cell_type": "code",
      "source": [
        "# pentla while\n",
        "\n",
        "licznik = 0\n",
        "\n",
        "print(\"pętla while licząca do 5\")\n",
        "while licznik <= 5:\n",
        "  print(f\"licznik = {licznik}\")\n",
        "  licznik += 1 # licznik - licznik + 1"
      ],
      "metadata": {
        "colab": {
          "base_uri": "https://localhost:8080/"
        },
        "id": "LGa4jB32NEOy",
        "outputId": "8443d9f4-bf79-4e42-f9bb-3dcdb415190b"
      },
      "execution_count": 30,
      "outputs": [
        {
          "output_type": "stream",
          "name": "stdout",
          "text": [
            "pętla while licząca do 5\n",
            "licznik = 0\n",
            "licznik = 1\n",
            "licznik = 2\n",
            "licznik = 3\n",
            "licznik = 4\n",
            "licznik = 5\n"
          ]
        }
      ]
    },
    {
      "cell_type": "markdown",
      "source": [
        "## Słowniki i krotki"
      ],
      "metadata": {
        "id": "YD4-vAWvNEjW"
      }
    },
    {
      "cell_type": "code",
      "source": [],
      "metadata": {
        "id": "gqQHoex-NMrm"
      },
      "execution_count": null,
      "outputs": []
    },
    {
      "cell_type": "markdown",
      "source": [
        "## Instrukcje warunkowe"
      ],
      "metadata": {
        "id": "tz0uNwVMNNRM"
      }
    },
    {
      "cell_type": "code",
      "source": [],
      "metadata": {
        "id": "BtMT0rneNTQa"
      },
      "execution_count": null,
      "outputs": []
    },
    {
      "cell_type": "markdown",
      "source": [
        "## Funkcje"
      ],
      "metadata": {
        "id": "TvsSfZJJNTfq"
      }
    },
    {
      "cell_type": "code",
      "source": [],
      "metadata": {
        "id": "ycOuLQsuNWGJ"
      },
      "execution_count": null,
      "outputs": []
    },
    {
      "cell_type": "markdown",
      "source": [
        "## Obsługa plików"
      ],
      "metadata": {
        "id": "g-BarlCkNWWo"
      }
    },
    {
      "cell_type": "code",
      "source": [],
      "metadata": {
        "id": "gnt9IIJjNiwM"
      },
      "execution_count": null,
      "outputs": []
    },
    {
      "cell_type": "markdown",
      "source": [
        "## Obsługa wyjątków"
      ],
      "metadata": {
        "id": "JGWVYhjwNiCs"
      }
    },
    {
      "cell_type": "code",
      "source": [],
      "metadata": {
        "id": "UW4NO1O9NrCd"
      },
      "execution_count": null,
      "outputs": []
    }
  ]
}