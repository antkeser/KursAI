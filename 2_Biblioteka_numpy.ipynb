{
  "nbformat": 4,
  "nbformat_minor": 0,
  "metadata": {
    "colab": {
      "provenance": [],
      "authorship_tag": "ABX9TyNstKCxuclwKs0kpp4MXq+c",
      "include_colab_link": true
    },
    "kernelspec": {
      "name": "python3",
      "display_name": "Python 3"
    },
    "language_info": {
      "name": "python"
    }
  },
  "cells": [
    {
      "cell_type": "markdown",
      "metadata": {
        "id": "view-in-github",
        "colab_type": "text"
      },
      "source": [
        "<a href=\"https://colab.research.google.com/github/antkeser/KursAI/blob/main/2_Biblioteka_numpy.ipynb\" target=\"_parent\"><img src=\"https://colab.research.google.com/assets/colab-badge.svg\" alt=\"Open In Colab\"/></a>"
      ]
    },
    {
      "cell_type": "code",
      "execution_count": 3,
      "metadata": {
        "colab": {
          "base_uri": "https://localhost:8080/"
        },
        "id": "8muqa8vDJLZh",
        "outputId": "8c3f00fc-d10c-4408-f1ce-d7f2d94675fc"
      },
      "outputs": [
        {
          "output_type": "stream",
          "name": "stdout",
          "text": [
            "Python 3.11.11\n"
          ]
        }
      ],
      "source": [
        "!python --version"
      ]
    },
    {
      "cell_type": "code",
      "source": [
        "!pip freeze  | grep numpy"
      ],
      "metadata": {
        "colab": {
          "base_uri": "https://localhost:8080/"
        },
        "id": "m-bG2-qbKtKs",
        "outputId": "d43eea4f-5698-4c29-e296-3c06a365a455"
      },
      "execution_count": 9,
      "outputs": [
        {
          "output_type": "stream",
          "name": "stdout",
          "text": [
            "numpy==1.26.4\n"
          ]
        }
      ]
    },
    {
      "cell_type": "code",
      "source": [
        "import numpy as np\n",
        "\n",
        "array = np.array([1, 2, 3, 4, 5, 6, 7, 8, 9, 10, 11, 12])\n",
        "\n",
        "print(array)\n",
        "print(f\"Kształt tablicy: {np.shape(array)}\")\n",
        "\n",
        "array2x6 = array.reshape(2, 6)\n",
        "print(\"array 2x6\")\n",
        "print(array2x6)\n",
        "print(f\"array 2x6 - kształt {np.shape(array2x6)}\")"
      ],
      "metadata": {
        "colab": {
          "base_uri": "https://localhost:8080/"
        },
        "id": "ngqDOx0mMI65",
        "outputId": "134db328-cbd9-4ac0-86e5-a91d09b43a95"
      },
      "execution_count": 8,
      "outputs": [
        {
          "output_type": "stream",
          "name": "stdout",
          "text": [
            "[ 1  2  3  4  5  6  7  8  9 10 11 12]\n",
            "Kształt tablicy: (12,)\n",
            "array 2x6\n",
            "[[ 1  2  3  4  5  6]\n",
            " [ 7  8  9 10 11 12]]\n",
            "array 2x6 - kształt (2, 6)\n"
          ]
        }
      ]
    },
    {
      "cell_type": "code",
      "source": [
        "array3x4 = array.reshape(3, 4)\n",
        "print(\"array 3x4\")\n",
        "print(array3x4)\n",
        "print(f\"array 3x4 - kształt {np.shape(array3x4)}\")"
      ],
      "metadata": {
        "colab": {
          "base_uri": "https://localhost:8080/"
        },
        "id": "i1c_6g1kN02V",
        "outputId": "61709fab-75fb-4fe9-c6cc-b5ad56d8a613"
      },
      "execution_count": null,
      "outputs": [
        {
          "output_type": "stream",
          "name": "stdout",
          "text": [
            "array 3x4\n",
            "[[ 1  2  3  4]\n",
            " [ 5  6  7  8]\n",
            " [ 9 10 11 12]]\n",
            "array 3x4 - kształt (3, 4)\n"
          ]
        }
      ]
    },
    {
      "cell_type": "code",
      "source": [
        "array2x2x3 = array.reshape(2, 2, 3)\n",
        "print(\"array 2x2x3\")\n",
        "print(array2x2x3)"
      ],
      "metadata": {
        "colab": {
          "base_uri": "https://localhost:8080/"
        },
        "id": "SXEKvDy6Obij",
        "outputId": "9159f2ba-ec37-4f55-c2b3-0d992b7babef"
      },
      "execution_count": null,
      "outputs": [
        {
          "output_type": "stream",
          "name": "stdout",
          "text": [
            "array 2x2x3\n",
            "[[[ 1  2  3]\n",
            "  [ 4  5  6]]\n",
            "\n",
            " [[ 7  8  9]\n",
            "  [10 11 12]]]\n"
          ]
        }
      ]
    },
    {
      "cell_type": "code",
      "source": [
        "unsorted2D = np.array([[7,2,9],\n",
        "                       [4,8,1],\n",
        "                       [5,6,3]])\n",
        "print(unsorted2D)\n",
        "sorted2D_axis0 = np.sort(unsorted2D, axis=0)\n",
        "print(sorted2D_axis0)\n",
        "sorted2D_axis1 = np.sort(unsorted2D, axis=1)\n",
        "print(sorted2D_axis1)"
      ],
      "metadata": {
        "colab": {
          "base_uri": "https://localhost:8080/"
        },
        "id": "urOY2pkdQCgY",
        "outputId": "82a7b880-c654-409f-f1e5-a8e0b29e8f20"
      },
      "execution_count": null,
      "outputs": [
        {
          "output_type": "stream",
          "name": "stdout",
          "text": [
            "[[7 2 9]\n",
            " [4 8 1]\n",
            " [5 6 3]]\n",
            "[[4 2 1]\n",
            " [5 6 3]\n",
            " [7 8 9]]\n",
            "[[2 7 9]\n",
            " [1 4 8]\n",
            " [3 5 6]]\n"
          ]
        }
      ]
    },
    {
      "cell_type": "code",
      "source": [
        "player_data = np.array([\n",
        "    (\"Faker\", \"T1\", 5),\n",
        "    (\"TheSky\", \"Weibo Gaming\", 1),\n",
        "    (\"Uzi\", \"Emerytowany\", 0)\n",
        "], dtype = [(\"Nick\", \"U30\"), (\"Team\", \"U30\"), (\"Worlds Title count\", \"i4\")])\n",
        "\n",
        "print(player_data)\n",
        "\n",
        "\n",
        "print(np.sort(player_data, order= \"Team\"))"
      ],
      "metadata": {
        "id": "R4ixusR-Q-30",
        "colab": {
          "base_uri": "https://localhost:8080/"
        },
        "outputId": "adaaaec6-6d18-42a6-dde8-a599f6929350"
      },
      "execution_count": 10,
      "outputs": [
        {
          "output_type": "stream",
          "name": "stdout",
          "text": [
            "[('Faker', 'T1', 5) ('TheSky', 'Weibo Gaming', 1)\n",
            " ('Uzi', 'Emerytowany', 0)]\n",
            "[('Uzi', 'Emerytowany', 0) ('Faker', 'T1', 5)\n",
            " ('TheSky', 'Weibo Gaming', 1)]\n"
          ]
        }
      ]
    },
    {
      "cell_type": "code",
      "source": [
        "from numpy import random\n",
        "\n",
        "for i in range(10):\n",
        "    print(random.randint(1,11))\n",
        "\n",
        "for i in range(10):\n",
        "  print(random.rand()*10)"
      ],
      "metadata": {
        "colab": {
          "base_uri": "https://localhost:8080/"
        },
        "id": "V-bdqaWfCH44",
        "outputId": "61c328c8-d6f9-4b3d-f104-cb3c326e7ae6"
      },
      "execution_count": 17,
      "outputs": [
        {
          "output_type": "stream",
          "name": "stdout",
          "text": [
            "2\n",
            "2\n",
            "5\n",
            "3\n",
            "10\n",
            "1\n",
            "9\n",
            "2\n",
            "6\n",
            "7\n",
            "6.420712670464594\n",
            "0.14809463073747975\n",
            "3.152274826464586\n",
            "1.7109075057695022\n",
            "0.4484766159964304\n",
            "7.611181342709683\n",
            "9.105565567690808\n",
            "2.6216016334154437\n",
            "6.98471635688012\n",
            "3.9980458389596585\n"
          ]
        }
      ]
    },
    {
      "cell_type": "code",
      "source": [
        "lista = [1,2,3,4]\n",
        "\n",
        "print(random.choice(lista,3))"
      ],
      "metadata": {
        "colab": {
          "base_uri": "https://localhost:8080/"
        },
        "id": "QvMcz7BlDce4",
        "outputId": "14a8d18c-2363-47d6-e12f-926effc6f838"
      },
      "execution_count": 18,
      "outputs": [
        {
          "output_type": "stream",
          "name": "stdout",
          "text": [
            "[4 2 4]\n"
          ]
        }
      ]
    },
    {
      "cell_type": "code",
      "source": [
        "array1D =  np.array([1,2,3,4,5,6,7,8,9])\n",
        "\n",
        "print(array1D[ :5])\n",
        "\n",
        "print(array1D[2:5])\n",
        "print(array1D[3:])\n",
        "print(array1D[-3:-1])"
      ],
      "metadata": {
        "colab": {
          "base_uri": "https://localhost:8080/"
        },
        "id": "8whPWttpEKJ5",
        "outputId": "76aa40a2-822d-4b21-f27e-4f718fa6e1f2"
      },
      "execution_count": 20,
      "outputs": [
        {
          "output_type": "stream",
          "name": "stdout",
          "text": [
            "[1 2 3 4 5]\n",
            "[3 4 5]\n",
            "[4 5 6 7 8 9]\n"
          ]
        }
      ]
    },
    {
      "cell_type": "code",
      "source": [
        "array2D = np.array([\n",
        "    [1,2,3,4,5],\n",
        "    [6,7,8,9,10],\n",
        "    [11,12,13,14,15]\n",
        "])\n",
        "\n",
        "print(array2D[2,1])\n",
        "\n",
        "print(array2D[:,2:4])\n",
        "\n",
        "for i in np.nditer(array2D):\n",
        "    print(i)"
      ],
      "metadata": {
        "colab": {
          "base_uri": "https://localhost:8080/"
        },
        "id": "UxPfpmDaFJd5",
        "outputId": "8bbec902-7ed2-4c49-f387-a0ca0ac017bf"
      },
      "execution_count": 25,
      "outputs": [
        {
          "output_type": "stream",
          "name": "stdout",
          "text": [
            "12\n",
            "[[ 3  4]\n",
            " [ 8  9]\n",
            " [13 14]]\n",
            "1\n",
            "2\n",
            "3\n",
            "4\n",
            "5\n",
            "6\n",
            "7\n",
            "8\n",
            "9\n",
            "10\n",
            "11\n",
            "12\n",
            "13\n",
            "14\n",
            "15\n"
          ]
        }
      ]
    },
    {
      "cell_type": "code",
      "source": [
        "array2D = np.array([\n",
        "    [1,2,3,4,5],\n",
        "    [6,7,8,9,10],\n",
        "    [11,12,13,14,6]\n",
        "])\n",
        "\n",
        "result = np.where(array2D == 6)\n",
        "print(result)\n",
        "\n",
        "result = np.where(array2D % 2 == 0, True, False)\n",
        "print(result)\n",
        "\n",
        "filtred = array2D[result]\n",
        "print(filtred)"
      ],
      "metadata": {
        "colab": {
          "base_uri": "https://localhost:8080/"
        },
        "id": "6bdtrnWWG0O7",
        "outputId": "1e0e6e21-de35-458d-aa42-19b6e6bc5cbb"
      },
      "execution_count": 35,
      "outputs": [
        {
          "output_type": "stream",
          "name": "stdout",
          "text": [
            "(array([1, 2]), array([0, 4]))\n",
            "[[False  True False  True False]\n",
            " [ True False  True False  True]\n",
            " [False  True False  True  True]]\n",
            "[ 2  4  6  8 10 12 14  6]\n"
          ]
        }
      ]
    }
  ]
}