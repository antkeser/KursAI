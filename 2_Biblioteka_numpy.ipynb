{
  "nbformat": 4,
  "nbformat_minor": 0,
  "metadata": {
    "colab": {
      "provenance": [],
      "authorship_tag": "ABX9TyMhKG9BphOlSLlTDgv+w4EE",
      "include_colab_link": true
    },
    "kernelspec": {
      "name": "python3",
      "display_name": "Python 3"
    },
    "language_info": {
      "name": "python"
    }
  },
  "cells": [
    {
      "cell_type": "markdown",
      "metadata": {
        "id": "view-in-github",
        "colab_type": "text"
      },
      "source": [
        "<a href=\"https://colab.research.google.com/github/antkeser/KursAI/blob/main/2_Biblioteka_numpy.ipynb\" target=\"_parent\"><img src=\"https://colab.research.google.com/assets/colab-badge.svg\" alt=\"Open In Colab\"/></a>"
      ]
    },
    {
      "cell_type": "code",
      "execution_count": 1,
      "metadata": {
        "colab": {
          "base_uri": "https://localhost:8080/"
        },
        "id": "8muqa8vDJLZh",
        "outputId": "25578859-ca39-4b7f-dc28-d1a35f6b8973"
      },
      "outputs": [
        {
          "output_type": "stream",
          "name": "stdout",
          "text": [
            "Python 3.11.11\n"
          ]
        }
      ],
      "source": [
        "!python --version"
      ]
    },
    {
      "cell_type": "code",
      "source": [
        "!pip freeze  | grep numpy"
      ],
      "metadata": {
        "colab": {
          "base_uri": "https://localhost:8080/"
        },
        "id": "m-bG2-qbKtKs",
        "outputId": "0f6a2be6-9a1b-4f7c-966b-aa477105a096"
      },
      "execution_count": 3,
      "outputs": [
        {
          "output_type": "stream",
          "name": "stdout",
          "text": [
            "numpy==1.26.4\n"
          ]
        }
      ]
    },
    {
      "cell_type": "code",
      "source": [
        "import numpy as np\n",
        "\n",
        "array = np.array([1, 2, 3, 4, 5, 6, 7, 8, 9, 10, 11, 12])\n",
        "\n",
        "print(array)\n",
        "print(f\"Kształt tablicy: {np.shape(array)}\")\n",
        "\n",
        "array2x6 = array.reshape(2, 6)\n",
        "print(\"array 2x6\")\n",
        "print(array2x6)\n",
        "print(f\"array 2x6 - kształt {np.shape(array2x6)}\")"
      ],
      "metadata": {
        "colab": {
          "base_uri": "https://localhost:8080/"
        },
        "id": "ngqDOx0mMI65",
        "outputId": "c6acff24-e26b-48f1-a593-a8a81cfb7567"
      },
      "execution_count": 10,
      "outputs": [
        {
          "output_type": "stream",
          "name": "stdout",
          "text": [
            "[ 1  2  3  4  5  6  7  8  9 10 11 12]\n",
            "Kształt tablicy: (12,)\n",
            "array 2x6\n",
            "[[ 1  2  3  4  5  6]\n",
            " [ 7  8  9 10 11 12]]\n",
            "array 2x6 - kształt (2, 6)\n"
          ]
        }
      ]
    },
    {
      "cell_type": "code",
      "source": [
        "array3x4 = array.reshape(3, 4)\n",
        "print(\"array 3x4\")\n",
        "print(array3x4)\n",
        "print(f\"array 3x4 - kształt {np.shape(array3x4)}\")"
      ],
      "metadata": {
        "colab": {
          "base_uri": "https://localhost:8080/"
        },
        "id": "i1c_6g1kN02V",
        "outputId": "61709fab-75fb-4fe9-c6cc-b5ad56d8a613"
      },
      "execution_count": 11,
      "outputs": [
        {
          "output_type": "stream",
          "name": "stdout",
          "text": [
            "array 3x4\n",
            "[[ 1  2  3  4]\n",
            " [ 5  6  7  8]\n",
            " [ 9 10 11 12]]\n",
            "array 3x4 - kształt (3, 4)\n"
          ]
        }
      ]
    },
    {
      "cell_type": "code",
      "source": [
        "array2x2x3 = array.reshape(2, 2, 3)\n",
        "print(\"array 2x2x3\")\n",
        "print(array2x2x3)"
      ],
      "metadata": {
        "colab": {
          "base_uri": "https://localhost:8080/"
        },
        "id": "SXEKvDy6Obij",
        "outputId": "9159f2ba-ec37-4f55-c2b3-0d992b7babef"
      },
      "execution_count": 14,
      "outputs": [
        {
          "output_type": "stream",
          "name": "stdout",
          "text": [
            "array 2x2x3\n",
            "[[[ 1  2  3]\n",
            "  [ 4  5  6]]\n",
            "\n",
            " [[ 7  8  9]\n",
            "  [10 11 12]]]\n"
          ]
        }
      ]
    },
    {
      "cell_type": "code",
      "source": [
        "unsorted2D = np.array([[7,2,9],\n",
        "                       [4,8,1],\n",
        "                       [5,6,3]])\n",
        "print(unsorted2D)\n",
        "sorted2D_axis0 = np.sort(unsorted2D, axis=0)\n",
        "print(sorted2D_axis0)\n",
        "sorted2D_axis1 = np.sort(unsorted2D, axis=1)\n",
        "print(sorted2D_axis1)"
      ],
      "metadata": {
        "colab": {
          "base_uri": "https://localhost:8080/"
        },
        "id": "urOY2pkdQCgY",
        "outputId": "82a7b880-c654-409f-f1e5-a8e0b29e8f20"
      },
      "execution_count": 24,
      "outputs": [
        {
          "output_type": "stream",
          "name": "stdout",
          "text": [
            "[[7 2 9]\n",
            " [4 8 1]\n",
            " [5 6 3]]\n",
            "[[4 2 1]\n",
            " [5 6 3]\n",
            " [7 8 9]]\n",
            "[[2 7 9]\n",
            " [1 4 8]\n",
            " [3 5 6]]\n"
          ]
        }
      ]
    },
    {
      "cell_type": "code",
      "source": [],
      "metadata": {
        "id": "R4ixusR-Q-30"
      },
      "execution_count": null,
      "outputs": []
    }
  ]
}