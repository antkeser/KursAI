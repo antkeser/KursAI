{
  "nbformat": 4,
  "nbformat_minor": 0,
  "metadata": {
    "colab": {
      "provenance": [],
      "authorship_tag": "ABX9TyPFsQCe4UoDaFo8bcvgot8+",
      "include_colab_link": true
    },
    "kernelspec": {
      "name": "python3",
      "display_name": "Python 3"
    },
    "language_info": {
      "name": "python"
    }
  },
  "cells": [
    {
      "cell_type": "markdown",
      "metadata": {
        "id": "view-in-github",
        "colab_type": "text"
      },
      "source": [
        "<a href=\"https://colab.research.google.com/github/antkeser/KursAI/blob/main/3_Biblioteka_matplotlib.ipynb\" target=\"_parent\"><img src=\"https://colab.research.google.com/assets/colab-badge.svg\" alt=\"Open In Colab\"/></a>"
      ]
    },
    {
      "cell_type": "markdown",
      "source": [
        "Sposób 1 - importowanie całych modułów\n",
        "```\n",
        "import cs\n",
        "import lol\n",
        "\n",
        "cs.map_name()\n",
        "lol.map_name()\n",
        "lol.buy_ardent()\n",
        "cs.buy_gun()\n",
        "```\n",
        "\n",
        "```\n",
        "The Dust 2\n",
        "Summoner's rift\n",
        "you have bought an Ardent Censer\n",
        "You hav bought a gun\n",
        "```"
      ],
      "metadata": {
        "id": "TeoeN4ESQH_V"
      }
    },
    {
      "cell_type": "markdown",
      "source": [
        "Sposób 2 - importowanie wszystkich elmentów z modułu\n",
        "```\n",
        "from lol import *\n",
        "from cs import *\n",
        "\n",
        "map_name()\n",
        "buy_ardent()\n",
        "buy_gun()\n",
        "```\n",
        "\n",
        "```\n",
        "The Dust 2\n",
        "you have bought an Ardent Censer\n",
        "You hav bought a gun\n",
        "```"
      ],
      "metadata": {
        "id": "vQMY4SPNRPEP"
      }
    },
    {
      "cell_type": "markdown",
      "source": [
        "Sposób 3 - importowanie wybranych elementów z modułu\n",
        "```\n",
        "from lol import buy_ardent\n",
        "from cs import map_name, buy_gun\n",
        "\n",
        "map_name()\n",
        "buy_ardent()\n",
        "buy_gun()\n",
        "```\n",
        "\n",
        "```\n",
        "The Dust 2\n",
        "you have bought an Ardent Censer\n",
        "You hav bought a gun\n",
        "```"
      ],
      "metadata": {
        "id": "h-3w421mSTXx"
      }
    },
    {
      "cell_type": "markdown",
      "source": [
        "Sposób 4 - importowanie wybranych elementów z modułu i dodanie aliasu na element\n",
        "```\n",
        "from lol import map_name as cs_map\n",
        "from cs import map_name as lol_map\n",
        "\n",
        "cs_map()\n",
        "lol_map()\n",
        "```\n",
        "\n",
        "```\n",
        "Summoner's rift\n",
        "The Dust 2\n",
        "```"
      ],
      "metadata": {
        "id": "lK4m80-MTSqj"
      }
    },
    {
      "cell_type": "code",
      "execution_count": 5,
      "metadata": {
        "colab": {
          "base_uri": "https://localhost:8080/"
        },
        "id": "_2Mgqv9XOHTQ",
        "outputId": "3f7cc3ab-866b-4cdc-898c-2992bfe91d91"
      },
      "outputs": [
        {
          "output_type": "stream",
          "name": "stdout",
          "text": [
            "Summoner's rift\n",
            "The Dust 2\n"
          ]
        }
      ],
      "source": [
        "from lol import map_name as cs_map\n",
        "from cs import map_name as lol_map\n",
        "\n",
        "cs_map()\n",
        "lol_map()"
      ]
    },
    {
      "cell_type": "markdown",
      "source": [
        "Matplotlip"
      ],
      "metadata": {
        "id": "HTBp0Az3UFz7"
      }
    },
    {
      "cell_type": "code",
      "source": [
        "!pip freeze | grep matplotlib"
      ],
      "metadata": {
        "colab": {
          "base_uri": "https://localhost:8080/"
        },
        "id": "pH45aqK3UCJr",
        "outputId": "5ab1e91f-f71f-47e1-a7a3-e4bf405cac8f"
      },
      "execution_count": 6,
      "outputs": [
        {
          "output_type": "stream",
          "name": "stdout",
          "text": [
            "matplotlib==3.10.0\n",
            "matplotlib-inline==0.1.7\n",
            "matplotlib-venn==1.1.2\n"
          ]
        }
      ]
    },
    {
      "cell_type": "code",
      "source": [
        "import matplotlib\n",
        "print(matplotlib.__version__)"
      ],
      "metadata": {
        "colab": {
          "base_uri": "https://localhost:8080/"
        },
        "id": "5wz6zhukUTf5",
        "outputId": "e30600f6-1705-493a-e81b-60c8b4d80c30"
      },
      "execution_count": 7,
      "outputs": [
        {
          "output_type": "stream",
          "name": "stdout",
          "text": [
            "3.10.0\n"
          ]
        }
      ]
    }
  ]
}